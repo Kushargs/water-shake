{
 "cells": [
  {
   "cell_type": "code",
   "execution_count": 73,
   "metadata": {},
   "outputs": [],
   "source": [
    "import numpy as np\n",
    "import matplotlib.pyplot as plt\n",
    "import copy\n",
    "import scipy.linalg as la"
   ]
  },
  {
   "cell_type": "code",
   "execution_count": 74,
   "metadata": {},
   "outputs": [],
   "source": [
    "#parameter definitions\n",
    "k_OH = 450\n",
    "k_HOH = 55\n",
    "\n",
    "r0_OH = 0.9572\n",
    "theta0_HOH = 104.52\n",
    "\n",
    "m_O = 15.9994\n",
    "m_H = 1.008\n",
    "c_O = -0.834\n",
    "c_H = 0.417\n",
    "mass_vec = np.array([m_O, m_O, m_O, m_H, m_H, m_H, m_H, m_H, m_H])"
   ]
  },
  {
   "cell_type": "code",
   "execution_count": 75,
   "metadata": {},
   "outputs": [],
   "source": [
    "x_O = -23.107 \n",
    "y_O = 18.401\n",
    "z_O = -21.626\n",
    "x_H1 = -22.157 \n",
    "y_H1 = 18.401\n",
    "z_H1 = -21.52\n",
    "x_H2 = -23.424 \n",
    "y_H2 = 18.401\n",
    "z_H2 = -20.730\n"
   ]
  },
  {
   "cell_type": "code",
   "execution_count": 76,
   "metadata": {},
   "outputs": [],
   "source": [
    "#get theta\n",
    "def getAngle(vec1, vec2):\n",
    "    c = np.dot(vec1,vec2)/np.linalg.norm(vec1)/np.linalg.norm(vec2) # -> cosine of the angle\n",
    "    angle = np.arccos(c) # if you really want the angle\n",
    "    return (180/np.pi)*angle"
   ]
  },
  {
   "cell_type": "code",
   "execution_count": 77,
   "metadata": {},
   "outputs": [],
   "source": [
    "def getU(x_O, y_O, z_O, x_H1, y_H1, z_H1, x_H2, y_H2, z_H2):\n",
    "    r_O = np.array([x_O, y_O, z_O])\n",
    "    r_H1 = np.array([x_H1, y_H1, z_H1])\n",
    "    r_H2 = np.array([x_H2, y_H2, z_H2])\n",
    "#     print(\"angle\", getAngle(r_O-r_H1, r_O-r_H2)-theta0_HOH )\n",
    "    U = (1/2)*k_OH*(np.linalg.norm(r_H1-r_O)-r0_OH)**2 + \\\n",
    "        (1/2)*k_OH*(np.linalg.norm(r_H2-r_O)-r0_OH)**2 + \\\n",
    "        (1/2)*k_HOH*(getAngle(r_O-r_H1, r_O-r_H2)-theta0_HOH)**2\n",
    "    return U\n",
    "    "
   ]
  },
  {
   "cell_type": "code",
   "execution_count": 78,
   "metadata": {},
   "outputs": [],
   "source": [
    "def getGradient(x, index, f):\n",
    "    eps = 0.00000000001 \n",
    "    xx0 = 1. * x[index]\n",
    "    f0 = f(*x)\n",
    "    x[index] = x[index] + eps\n",
    "    f1 = f(*x)\n",
    "#     print(\"eps\", eps, \"f0\", f0, \"f1\", f1)\n",
    "    gradient = (f1 - f0)/eps\n",
    "    x[index] = xx0\n",
    "    return gradient\n",
    "\n"
   ]
  },
  {
   "cell_type": "code",
   "execution_count": 79,
   "metadata": {},
   "outputs": [
    {
     "data": {
      "text/plain": [
       "54.154460529609636"
      ]
     },
     "execution_count": 79,
     "metadata": {},
     "output_type": "execute_result"
    }
   ],
   "source": [
    "pos = [x_O, y_O, z_O, x_H1, y_H1, z_H1, x_H2, y_H2, z_H2]\n",
    "getU(x_O, y_O, z_O, x_H1, y_H1, z_H1, x_H2, y_H2, z_H2)"
   ]
  },
  {
   "cell_type": "code",
   "execution_count": 80,
   "metadata": {},
   "outputs": [],
   "source": [
    "def gradient_decent(x, indexs, steps, epsilon, f):\n",
    "    for j in range(steps):\n",
    "        grad = np.zeros(9)\n",
    "        for i in indexs:\n",
    "            grad[i] = (getGradient(x, i, f))\n",
    "#             print(\"grad:\", grad, \"x\", x)\n",
    "        for i in indexs:\n",
    "            x[i] = x[i] - grad[i]*epsilon\n",
    "#             grad = getGradient(x, index, f)\n",
    "#         print(\"grad:\", grad, \"x\", x)\n",
    "    return x"
   ]
  },
  {
   "cell_type": "code",
   "execution_count": 81,
   "metadata": {},
   "outputs": [],
   "source": [
    "pos = [x_O, y_O, z_O, x_H1, y_H1, z_H1, x_H2, y_H2, z_H2]\n",
    "pos = gradient_decent(pos, [3,5,6,8], 70000, 0.000001, getU)\n"
   ]
  },
  {
   "cell_type": "code",
   "execution_count": 82,
   "metadata": {},
   "outputs": [
    {
     "name": "stdout",
     "output_type": "stream",
     "text": [
      "equilibrium_pos [-23.107, 18.401, -21.626, -22.154481695535658, 18.401, -21.531444623628232, -23.43734871848534, 18.401, -20.727611684739887] U: 5.445839071432381e-17 angle: 104.5200000002777\n"
     ]
    }
   ],
   "source": [
    "U = getU(*pos)\n",
    "print(\"equilibrium_pos\", pos, \"U:\", U, \"angle:\", getAngle(np.array([pos[0],pos[1],pos[2]])-np.array([pos[3],pos[4],pos[5]]),np.array([pos[0],pos[1],pos[2]])-np.array([pos[6],pos[7],pos[8]]) ))"
   ]
  },
  {
   "cell_type": "code",
   "execution_count": 83,
   "metadata": {},
   "outputs": [],
   "source": [
    "    #Hessian Matrix\n",
    "    def getHessian (pos, getU):\n",
    "        hessian = np.zeros((9, 9))\n",
    "        for i in range(9):\n",
    "            for j in range(9):\n",
    "                x = copy.deepcopy(pos)\n",
    "                gd_0 = getGradient( x, j, getU)\n",
    "                eps = 0.00000000001\n",
    "                x[i] = x[i]+eps\n",
    "                gd_1 = getGradient( x, j, getU)\n",
    "\n",
    "                double_g = (gd_1 - gd_0)/eps\n",
    "                hessian[i][j] = double_g\n",
    "        return hessian"
   ]
  },
  {
   "cell_type": "code",
   "execution_count": 84,
   "metadata": {},
   "outputs": [
    {
     "name": "stdout",
     "output_type": "stream",
     "text": [
      "hessian: [[  8718.66458613      0.          13858.44880105   3960.15153752\n",
      "       0.         -41024.62869862 -38696.06367126      0.\n",
      "  -14187.70800161]\n",
      " [     0.              0.              0.              0.\n",
      "       0.              0.              0.              0.\n",
      "       0.        ]\n",
      " [ 13858.44880105      0.          22152.67656284   6486.336951\n",
      "       0.         -65457.09737994 -61700.26604926      0.\n",
      "  -22801.34360223]\n",
      " [  3960.15153752      0.           6486.336951     2349.86023805\n",
      "       0.         -19176.00819478 -18127.75340585      0.\n",
      "   -6665.68730592]\n",
      " [     0.              0.              0.              0.\n",
      "       0.              0.              0.              0.\n",
      "       0.        ]\n",
      " [-41024.62869862      0.         -65457.09737994 -19176.00819478\n",
      "       0.         193630.67427453 182623.71906268      0.\n",
      "   67151.8736306 ]\n",
      " [-38696.06367126      0.         -61700.26604926 -18127.75340585\n",
      "       0.         182623.71906268 172299.51293358      0.\n",
      "   63191.415726  ]\n",
      " [     0.              0.              0.              0.\n",
      "       0.              0.              0.              0.\n",
      "       0.        ]\n",
      " [-14187.70800161      0.         -22801.34360223  -6665.68730592\n",
      "       0.          67151.8736306   63191.415726        0.\n",
      "   23682.59469616]]\n"
     ]
    }
   ],
   "source": [
    "hessian = getHessian(pos, getU)\n",
    "for i in range(9):\n",
    "    for j in range(9):\n",
    "        hessian[i][j] = hessian[i][j]/np.sqrt(mass_vec[i]*mass_vec[j])\n",
    "print(\"hessian:\",hessian)"
   ]
  },
  {
   "cell_type": "code",
   "execution_count": 85,
   "metadata": {},
   "outputs": [],
   "source": [
    "eigvals, eigvac = la.eig(hessian)"
   ]
  },
  {
   "cell_type": "code",
   "execution_count": 86,
   "metadata": {},
   "outputs": [
    {
     "name": "stdout",
     "output_type": "stream",
     "text": [
      "eigen_values: [ 4.21886262e+05  4.82013599e+02  4.66445159e+02 -1.03147669e+00\n",
      "  3.09998268e-01 -1.60686015e-02  0.00000000e+00  0.00000000e+00\n",
      "  0.00000000e+00]\n"
     ]
    }
   ],
   "source": [
    "print(\"eigen_values:\", eigvals.real)"
   ]
  },
  {
   "cell_type": "code",
   "execution_count": 87,
   "metadata": {
    "scrolled": true
   },
   "outputs": [
    {
     "name": "stdout",
     "output_type": "stream",
     "text": [
      "eigen_vectors: [[-0.14350514  0.22568722  0.11167725  0.15807513  0.62119443  0.71072461\n",
      "   0.          0.          0.        ]\n",
      " [ 0.          0.          0.          0.          0.          0.\n",
      "   1.          0.          0.        ]\n",
      " [-0.22902999 -0.15027352  0.16448213 -0.86439578 -0.19320521  0.33674983\n",
      "   0.          0.          0.        ]\n",
      " [-0.06720282 -0.65656575 -0.71240728  0.00394467  0.19795129  0.13296915\n",
      "   0.          0.          0.        ]\n",
      " [ 0.          0.          0.          0.          0.          0.\n",
      "   0.          1.          0.        ]\n",
      " [ 0.67746431 -0.06690619 -0.03093223  0.14262612 -0.47033786  0.54226281\n",
      "   0.          0.          0.        ]\n",
      " [ 0.63894878 -0.24299122  0.2685813  -0.29866252  0.55401705 -0.2538299\n",
      "   0.          0.          0.        ]\n",
      " [ 0.          0.          0.          0.          0.          0.\n",
      "   0.          0.          1.        ]\n",
      " [ 0.23499339  0.65717836 -0.61632537 -0.34391151  0.09722099 -0.07287457\n",
      "   0.          0.          0.        ]]\n"
     ]
    }
   ],
   "source": [
    "print(\"eigen_vectors:\",eigvac)"
   ]
  },
  {
   "cell_type": "code",
   "execution_count": 88,
   "metadata": {},
   "outputs": [
    {
     "name": "stdout",
     "output_type": "stream",
     "text": [
      "[6.49527722e+02 2.19548081e+01 2.15973415e+01 0.00000000e+00\n",
      " 5.56774881e-01 0.00000000e+00 0.00000000e+00 0.00000000e+00\n",
      " 0.00000000e+00]\n"
     ]
    }
   ],
   "source": [
    "freq = np.sqrt(eigvals)\n",
    "print(freq.real)"
   ]
  },
  {
   "cell_type": "markdown",
   "metadata": {},
   "source": [
    "So the frequencies are 6.49527722e+02 2.19548081e+01 2.15973415e+01"
   ]
  },
  {
   "cell_type": "markdown",
   "metadata": {},
   "source": [
    "This code optimises the coordinates of the water molecule using gradient decent. This I have computed the hessian matrix and diagonalized it to get eigenvalues. (I have not accounted for masses for now so this is not same as actual values)\n",
    "Note: also the gradient decent is not powerful enough to minimise U by a lot. So there is already a significant deviation from the equilibrium value. So probably that is the reason I am not getting correct eigenvalues."
   ]
  }
 ],
 "metadata": {
  "kernelspec": {
   "display_name": "Python 3",
   "language": "python",
   "name": "python3"
  },
  "language_info": {
   "codemirror_mode": {
    "name": "ipython",
    "version": 3
   },
   "file_extension": ".py",
   "mimetype": "text/x-python",
   "name": "python",
   "nbconvert_exporter": "python",
   "pygments_lexer": "ipython3",
   "version": "3.8.10"
  }
 },
 "nbformat": 4,
 "nbformat_minor": 4
}
