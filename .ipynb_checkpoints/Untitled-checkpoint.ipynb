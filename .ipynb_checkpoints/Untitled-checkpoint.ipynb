{
 "cells": [
  {
   "cell_type": "code",
   "execution_count": 511,
   "metadata": {},
   "outputs": [],
   "source": [
    "import numpy as np\n",
    "import matplotlib.pyplot as plt\n",
    "import copy\n",
    "import scipy.linalg as la"
   ]
  },
  {
   "cell_type": "code",
   "execution_count": 512,
   "metadata": {},
   "outputs": [],
   "source": [
    "#parameter definitions\n",
    "k_OH = 450\n",
    "k_HOH = 55\n",
    "\n",
    "r0_OH = 0.9572\n",
    "theta0_HOH = 104.52\n",
    "\n",
    "m_O = 15.9994\n",
    "m_H = 1.008\n",
    "c_O = -0.834\n",
    "c_H = 0.417"
   ]
  },
  {
   "cell_type": "code",
   "execution_count": 513,
   "metadata": {},
   "outputs": [],
   "source": [
    "x_O = -23.107 \n",
    "y_O = 18.401\n",
    "z_O = -21.626\n",
    "x_H1 = -22.157 \n",
    "y_H1 = 18.401\n",
    "z_H1 = -21.52\n",
    "x_H2 = -23.424 \n",
    "y_H2 = 18.401\n",
    "z_H2 = -20.730\n"
   ]
  },
  {
   "cell_type": "code",
   "execution_count": 514,
   "metadata": {},
   "outputs": [],
   "source": [
    "#get theta\n",
    "def getAngle(vec1, vec2):\n",
    "    c = np.dot(vec1,vec2)/np.linalg.norm(vec1)/np.linalg.norm(vec2) # -> cosine of the angle\n",
    "    angle = np.arccos(c) # if you really want the angle\n",
    "    return (180/np.pi)*angle"
   ]
  },
  {
   "cell_type": "code",
   "execution_count": 515,
   "metadata": {},
   "outputs": [],
   "source": [
    "def getU(x_O, y_O, z_O, x_H1, y_H1, z_H1, x_H2, y_H2, z_H2):\n",
    "    r_O = np.array([x_O, y_O, z_O])\n",
    "    r_H1 = np.array([x_H1, y_H1, z_H1])\n",
    "    r_H2 = np.array([x_H2, y_H2, z_H2])\n",
    "#     print(\"angle\", getAngle(r_O-r_H1, r_O-r_H2)-theta0_HOH )\n",
    "    U = (1/2)*k_OH*(np.linalg.norm(r_H1-r_O)-r0_OH)**2 + \\\n",
    "        (1/2)*k_OH*(np.linalg.norm(r_H2-r_O)-r0_OH)**2 + \\\n",
    "        (1/2)*k_HOH*(getAngle(r_O-r_H1, r_O-r_H2)-theta0_HOH)**2\n",
    "    return U\n",
    "    "
   ]
  },
  {
   "cell_type": "code",
   "execution_count": 516,
   "metadata": {},
   "outputs": [],
   "source": [
    "def getGradient(x, index, f):\n",
    "    eps = 0.00000000001 \n",
    "    xx0 = 1. * x[index]\n",
    "    f0 = f(*x)\n",
    "    x[index] = x[index] + eps\n",
    "    f1 = f(*x)\n",
    "#     print(\"eps\", eps, \"f0\", f0, \"f1\", f1)\n",
    "    gradient = (f1 - f0)/eps\n",
    "    x[index] = xx0\n",
    "    return gradient\n",
    "\n"
   ]
  },
  {
   "cell_type": "code",
   "execution_count": 517,
   "metadata": {},
   "outputs": [
    {
     "data": {
      "text/plain": [
       "54.154460529609636"
      ]
     },
     "execution_count": 517,
     "metadata": {},
     "output_type": "execute_result"
    }
   ],
   "source": [
    "pos = [x_O, y_O, z_O, x_H1, y_H1, z_H1, x_H2, y_H2, z_H2]\n",
    "getU(x_O, y_O, z_O, x_H1, y_H1, z_H1, x_H2, y_H2, z_H2)"
   ]
  },
  {
   "cell_type": "code",
   "execution_count": 518,
   "metadata": {},
   "outputs": [],
   "source": [
    "\n",
    "# grad6 = getGradient(pos,6, getU)\n",
    "# grad3 = getGradient(pos,3, getU)\n",
    "# print(grad6, grad3)"
   ]
  },
  {
   "cell_type": "code",
   "execution_count": 519,
   "metadata": {},
   "outputs": [],
   "source": [
    "def gradient_decent(x, indexs, steps, epsilon, f):\n",
    "    for j in range(steps):\n",
    "        grad = np.zeros(9)\n",
    "        for i in indexs:\n",
    "            grad[i] = (getGradient(x, i, f))\n",
    "#             print(\"grad:\", grad, \"x\", x)\n",
    "        for i in indexs:\n",
    "            x[i] = x[i] - grad[i]*epsilon\n",
    "#             grad = getGradient(x, index, f)\n",
    "#         print(\"grad:\", grad, \"x\", x)\n",
    "    return x"
   ]
  },
  {
   "cell_type": "code",
   "execution_count": null,
   "metadata": {},
   "outputs": [],
   "source": []
  },
  {
   "cell_type": "code",
   "execution_count": 520,
   "metadata": {},
   "outputs": [],
   "source": [
    "pos = [x_O, y_O, z_O, x_H1, y_H1, z_H1, x_H2, y_H2, z_H2]\n",
    "pos = gradient_decent(pos, [3,4,6,7], 20000, 0.0000001, getU)\n"
   ]
  },
  {
   "cell_type": "code",
   "execution_count": 521,
   "metadata": {},
   "outputs": [
    {
     "name": "stdout",
     "output_type": "stream",
     "text": [
      "equilibrium_pos [-23.107, 18.401, -21.626, -22.154985590054032, 18.401, -21.52, -23.448669108892247, 18.401, -20.73] U: 0.0007859764908365293 angle: 104.51989882819672\n"
     ]
    }
   ],
   "source": [
    "U = getU(*pos)\n",
    "print(\"equilibrium_pos\", pos, \"U:\", U, \"angle:\", getAngle(np.array([pos[0],pos[1],pos[2]])-np.array([pos[3],pos[4],pos[5]]),np.array([pos[0],pos[1],pos[2]])-np.array([pos[6],pos[7],pos[8]]) ))"
   ]
  },
  {
   "cell_type": "code",
   "execution_count": 522,
   "metadata": {},
   "outputs": [],
   "source": [
    "# dUxx = getGradient(, getGradient(pos, i, getU))\n",
    "\n",
    "# # grad_vec = np.array([])\n",
    "# # for i in range(9):\n",
    "# #     grad_vec.append(getGradient(pos, i, getU)"
   ]
  },
  {
   "cell_type": "code",
   "execution_count": null,
   "metadata": {},
   "outputs": [],
   "source": []
  },
  {
   "cell_type": "code",
   "execution_count": 523,
   "metadata": {},
   "outputs": [],
   "source": [
    "    #Hessian Matrix\n",
    "    def getHessian (pos, getU):\n",
    "        hessian = np.zeros((9, 9))\n",
    "        for i in range(9):\n",
    "            for j in range(9):\n",
    "                x = copy.deepcopy(pos)\n",
    "                gd_0 = getGradient( x, j, getU)\n",
    "                eps = 0.0000000001\n",
    "                x[i] = x[i]+eps\n",
    "                gd_1 = getGradient( x, j, getU)\n",
    "\n",
    "                double_g = (gd_1 - gd_0)/eps\n",
    "                hessian[i][j] = double_g\n",
    "        return hessian"
   ]
  },
  {
   "cell_type": "code",
   "execution_count": 524,
   "metadata": {},
   "outputs": [
    {
     "name": "stdout",
     "output_type": "stream",
     "text": [
      "hessian: [[ 176182.85302889       0.          225839.31252873   17455.65497702\n",
      "        0.          -46945.95406862  -64510.02926289       0.\n",
      "   108311.7970313 ]\n",
      " [      0.               0.               0.               0.\n",
      "        0.               0.               0.               0.\n",
      "        0.        ]\n",
      " [ 305094.49133742       0.          279724.16050126   29381.87887436\n",
      "        0.         -184856.47040878 -247631.77619569       0.\n",
      "   -15720.93150104]\n",
      " [  96602.41356846       0.          108420.21724855    2927.34586571\n",
      "        0.           57571.13535898   58763.75774871       0.\n",
      "    71340.50294955]\n",
      " [      0.               0.               0.               0.\n",
      "        0.               0.               0.               0.\n",
      "        0.        ]\n",
      " [-161004.0226141        0.         -264111.64921747  -21575.62323246\n",
      "        0.          194397.44952665  182579.64584656       0.\n",
      "    69605.77947357]\n",
      " [ -64510.02926289       0.         -326886.95500438  -20274.58062548\n",
      "        0.          261617.98422075  171520.78368721       0.\n",
      "   144415.72937507]\n",
      " [      0.               0.               0.               0.\n",
      "        0.               0.               0.               0.\n",
      "        0.        ]\n",
      " [ -57245.87470723       0.         -260425.36183102   -7697.83542465\n",
      "        0.          148752.53806501   65485.81121812       0.\n",
      "   104733.9298621 ]]\n"
     ]
    }
   ],
   "source": [
    "hessian = getHessian(pos, getU)\n",
    "print(\"hessian:\",hessian)"
   ]
  },
  {
   "cell_type": "code",
   "execution_count": 525,
   "metadata": {},
   "outputs": [],
   "source": [
    "eigvals, eigvac = la.eig(hessian)"
   ]
  },
  {
   "cell_type": "code",
   "execution_count": 526,
   "metadata": {},
   "outputs": [
    {
     "name": "stdout",
     "output_type": "stream",
     "text": [
      "eigen_values: [ 8.30623462e+05  1.79751159e+05 -1.35530862e+05  4.81990659e+04\n",
      "  6.46121315e+03 -1.75160075e+01  0.00000000e+00  0.00000000e+00\n",
      "  0.00000000e+00]\n"
     ]
    }
   ],
   "source": [
    "print(\"eigen_values:\", eigvals.real)"
   ]
  },
  {
   "cell_type": "code",
   "execution_count": 527,
   "metadata": {},
   "outputs": [
    {
     "name": "stdout",
     "output_type": "stream",
     "text": [
      "eigen_vectors: [[ 0.21534887 -0.48657217  0.46721767 -0.24339942 -0.02287173 -0.27020688\n",
      "   0.          0.          0.        ]\n",
      " [ 0.          0.          0.          0.          0.          0.\n",
      "   1.          0.          0.        ]\n",
      " [ 0.53858139 -0.0822427  -0.5444431  -0.03611271  0.0115312   0.26737751\n",
      "   0.          0.          0.        ]\n",
      " [-0.00772944 -0.62671923  0.42451361 -0.86259978 -0.98938332 -0.25333039\n",
      "   0.          0.          0.        ]\n",
      " [ 0.          0.          0.          0.          0.          0.\n",
      "   0.          1.          0.        ]\n",
      " [-0.47635947 -0.20211416  0.09362535 -0.13748869 -0.05641865  0.68020763\n",
      "   0.          0.          0.        ]\n",
      " [-0.55544385 -0.54623276 -0.32935158 -0.34827042 -0.09640374 -0.56129011\n",
      "   0.          0.          0.        ]\n",
      " [ 0.          0.          0.          0.          0.          0.\n",
      "   0.          0.          1.        ]\n",
      " [-0.35785329 -0.15648103 -0.43340442  0.23490166  0.08937464 -0.11658563\n",
      "   0.          0.          0.        ]]\n"
     ]
    }
   ],
   "source": [
    "print(\"eigen_vectors:\",eigvac)"
   ]
  },
  {
   "cell_type": "markdown",
   "metadata": {},
   "source": [
    "This code optimises the coordinates of the water molecule using gradient decent. This I have computed the hessian matrix and diagonalized it to get eigenvalues. (I have not accounted for masses for now so this is not same as actual values)\n",
    "Note: also the gradient decent is not powerful enough to minimise U by a lot. So there is already a significant deviation from the equilibrium value. So probably that is the reason I am not getting correct eigenvalues."
   ]
  },
  {
   "cell_type": "code",
   "execution_count": null,
   "metadata": {},
   "outputs": [],
   "source": []
  },
  {
   "cell_type": "code",
   "execution_count": null,
   "metadata": {},
   "outputs": [],
   "source": []
  },
  {
   "cell_type": "code",
   "execution_count": null,
   "metadata": {},
   "outputs": [],
   "source": []
  },
  {
   "cell_type": "code",
   "execution_count": null,
   "metadata": {},
   "outputs": [],
   "source": []
  },
  {
   "cell_type": "code",
   "execution_count": null,
   "metadata": {},
   "outputs": [],
   "source": []
  },
  {
   "cell_type": "code",
   "execution_count": null,
   "metadata": {},
   "outputs": [],
   "source": []
  },
  {
   "cell_type": "code",
   "execution_count": 479,
   "metadata": {},
   "outputs": [],
   "source": [
    "# r0_O = np.array([-23.107, 18.401, -21.626 ])\n",
    "# r0_H1 = np.array([-22.157, 18.401, -21.626])\n",
    "# r0_H2 = np.array([-23.424, 18.401, -20.730 ])"
   ]
  },
  {
   "cell_type": "code",
   "execution_count": null,
   "metadata": {},
   "outputs": [],
   "source": []
  },
  {
   "cell_type": "code",
   "execution_count": null,
   "metadata": {},
   "outputs": [],
   "source": []
  },
  {
   "cell_type": "code",
   "execution_count": null,
   "metadata": {},
   "outputs": [],
   "source": []
  }
 ],
 "metadata": {
  "kernelspec": {
   "display_name": "Python 3",
   "language": "python",
   "name": "python3"
  },
  "language_info": {
   "codemirror_mode": {
    "name": "ipython",
    "version": 3
   },
   "file_extension": ".py",
   "mimetype": "text/x-python",
   "name": "python",
   "nbconvert_exporter": "python",
   "pygments_lexer": "ipython3",
   "version": "3.8.10"
  }
 },
 "nbformat": 4,
 "nbformat_minor": 4
}
